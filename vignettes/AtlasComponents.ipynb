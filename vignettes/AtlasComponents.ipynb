{
 "cells": [
  {
   "cell_type": "code",
   "execution_count": 2,
   "id": "requested-printer",
   "metadata": {
    "tags": []
   },
   "outputs": [],
   "source": [
    "source('../R/libs.R')\n",
    "source('../R/utils.R')\n",
    "source('../R/utils_plotting.R')\n"
   ]
  },
  {
   "cell_type": "markdown",
   "id": "increased-maker",
   "metadata": {},
   "source": [
    "# Download atlas\n",
    "\n",
    "From [Zenodo](...), download the Fibroblast Atlas and place it into the `data` directory of this repository. \n"
   ]
  },
  {
   "cell_type": "markdown",
   "id": "floppy-google",
   "metadata": {},
   "source": [
    "# Load Atlas"
   ]
  },
  {
   "cell_type": "code",
   "execution_count": 3,
   "id": "continental-retro",
   "metadata": {},
   "outputs": [],
   "source": [
    "atlas <- readRDS('../data/fibroblast_atlas.rds')"
   ]
  },
  {
   "cell_type": "code",
   "execution_count": 5,
   "id": "alpine-cornwall",
   "metadata": {},
   "outputs": [
    {
     "data": {
      "text/html": [
       "<ol class=list-inline>\n",
       "\t<li>'vargenes'</li>\n",
       "\t<li>'loadings'</li>\n",
       "\t<li>'centroids'</li>\n",
       "\t<li>'cache'</li>\n",
       "\t<li>'models'</li>\n",
       "\t<li>'markers'</li>\n",
       "</ol>\n"
      ],
      "text/latex": [
       "\\begin{enumerate*}\n",
       "\\item 'vargenes'\n",
       "\\item 'loadings'\n",
       "\\item 'centroids'\n",
       "\\item 'cache'\n",
       "\\item 'models'\n",
       "\\item 'markers'\n",
       "\\end{enumerate*}\n"
      ],
      "text/markdown": [
       "1. 'vargenes'\n",
       "2. 'loadings'\n",
       "3. 'centroids'\n",
       "4. 'cache'\n",
       "5. 'models'\n",
       "6. 'markers'\n",
       "\n",
       "\n"
      ],
      "text/plain": [
       "[1] \"vargenes\"  \"loadings\"  \"centroids\" \"cache\"     \"models\"    \"markers\"  "
      ]
     },
     "metadata": {},
     "output_type": "display_data"
    }
   ],
   "source": [
    "names(atlas)"
   ]
  },
  {
   "cell_type": "markdown",
   "id": "economic-ownership",
   "metadata": {},
   "source": [
    "# PCA projection function"
   ]
  },
  {
   "cell_type": "code",
   "execution_count": 6,
   "id": "incoming-entrance",
   "metadata": {},
   "outputs": [
    {
     "data": {
      "text/html": [
       "<table>\n",
       "<caption>A tibble: 6 × 3</caption>\n",
       "<thead>\n",
       "\t<tr><th scope=col>symbol</th><th scope=col>mean</th><th scope=col>stddev</th></tr>\n",
       "\t<tr><th scope=col>&lt;chr&gt;</th><th scope=col>&lt;dbl&gt;</th><th scope=col>&lt;dbl&gt;</th></tr>\n",
       "</thead>\n",
       "<tbody>\n",
       "\t<tr><td>A1CF   </td><td>0.006612528</td><td>0.1027104</td></tr>\n",
       "\t<tr><td>A2ML1  </td><td>0.027235346</td><td>0.2055244</td></tr>\n",
       "\t<tr><td>AADACL2</td><td>0.009083021</td><td>0.1146116</td></tr>\n",
       "\t<tr><td>AATK   </td><td>0.060675707</td><td>0.3036885</td></tr>\n",
       "\t<tr><td>ABCA1  </td><td>0.366434991</td><td>0.7110424</td></tr>\n",
       "\t<tr><td>ABCA9  </td><td>0.312254297</td><td>0.6780157</td></tr>\n",
       "</tbody>\n",
       "</table>\n"
      ],
      "text/latex": [
       "A tibble: 6 × 3\n",
       "\\begin{tabular}{lll}\n",
       " symbol & mean & stddev\\\\\n",
       " <chr> & <dbl> & <dbl>\\\\\n",
       "\\hline\n",
       "\t A1CF    & 0.006612528 & 0.1027104\\\\\n",
       "\t A2ML1   & 0.027235346 & 0.2055244\\\\\n",
       "\t AADACL2 & 0.009083021 & 0.1146116\\\\\n",
       "\t AATK    & 0.060675707 & 0.3036885\\\\\n",
       "\t ABCA1   & 0.366434991 & 0.7110424\\\\\n",
       "\t ABCA9   & 0.312254297 & 0.6780157\\\\\n",
       "\\end{tabular}\n"
      ],
      "text/markdown": [
       "\n",
       "A tibble: 6 × 3\n",
       "\n",
       "| symbol &lt;chr&gt; | mean &lt;dbl&gt; | stddev &lt;dbl&gt; |\n",
       "|---|---|---|\n",
       "| A1CF    | 0.006612528 | 0.1027104 |\n",
       "| A2ML1   | 0.027235346 | 0.2055244 |\n",
       "| AADACL2 | 0.009083021 | 0.1146116 |\n",
       "| AATK    | 0.060675707 | 0.3036885 |\n",
       "| ABCA1   | 0.366434991 | 0.7110424 |\n",
       "| ABCA9   | 0.312254297 | 0.6780157 |\n",
       "\n"
      ],
      "text/plain": [
       "  symbol  mean        stddev   \n",
       "1 A1CF    0.006612528 0.1027104\n",
       "2 A2ML1   0.027235346 0.2055244\n",
       "3 AADACL2 0.009083021 0.1146116\n",
       "4 AATK    0.060675707 0.3036885\n",
       "5 ABCA1   0.366434991 0.7110424\n",
       "6 ABCA9   0.312254297 0.6780157"
      ]
     },
     "metadata": {},
     "output_type": "display_data"
    }
   ],
   "source": [
    "## Information to scale genes in the query\n",
    "head(atlas$vargenes)"
   ]
  },
  {
   "cell_type": "code",
   "execution_count": 7,
   "id": "impaired-cocktail",
   "metadata": {},
   "outputs": [
    {
     "data": {
      "text/html": [
       "<table>\n",
       "<caption>A matrix: 5 × 3 of type dbl</caption>\n",
       "<thead>\n",
       "\t<tr><th></th><th scope=col>PC1</th><th scope=col>PC2</th><th scope=col>PC3</th></tr>\n",
       "</thead>\n",
       "<tbody>\n",
       "\t<tr><th scope=row>A1CF</th><td>-0.002806500</td><td>-3.385787e-03</td><td>-0.000501818</td></tr>\n",
       "\t<tr><th scope=row>A2ML1</th><td>-0.004317699</td><td>-4.619880e-03</td><td>-0.003346057</td></tr>\n",
       "\t<tr><th scope=row>AADACL2</th><td> 0.002332925</td><td> 1.013306e-03</td><td> 0.003040417</td></tr>\n",
       "\t<tr><th scope=row>AATK</th><td>-0.005121072</td><td> 4.365772e-05</td><td>-0.006086168</td></tr>\n",
       "\t<tr><th scope=row>ABCA1</th><td> 0.015482876</td><td>-1.033667e-03</td><td> 0.001238308</td></tr>\n",
       "</tbody>\n",
       "</table>\n"
      ],
      "text/latex": [
       "A matrix: 5 × 3 of type dbl\n",
       "\\begin{tabular}{r|lll}\n",
       "  & PC1 & PC2 & PC3\\\\\n",
       "\\hline\n",
       "\tA1CF & -0.002806500 & -3.385787e-03 & -0.000501818\\\\\n",
       "\tA2ML1 & -0.004317699 & -4.619880e-03 & -0.003346057\\\\\n",
       "\tAADACL2 &  0.002332925 &  1.013306e-03 &  0.003040417\\\\\n",
       "\tAATK & -0.005121072 &  4.365772e-05 & -0.006086168\\\\\n",
       "\tABCA1 &  0.015482876 & -1.033667e-03 &  0.001238308\\\\\n",
       "\\end{tabular}\n"
      ],
      "text/markdown": [
       "\n",
       "A matrix: 5 × 3 of type dbl\n",
       "\n",
       "| <!--/--> | PC1 | PC2 | PC3 |\n",
       "|---|---|---|---|\n",
       "| A1CF | -0.002806500 | -3.385787e-03 | -0.000501818 |\n",
       "| A2ML1 | -0.004317699 | -4.619880e-03 | -0.003346057 |\n",
       "| AADACL2 |  0.002332925 |  1.013306e-03 |  0.003040417 |\n",
       "| AATK | -0.005121072 |  4.365772e-05 | -0.006086168 |\n",
       "| ABCA1 |  0.015482876 | -1.033667e-03 |  0.001238308 |\n",
       "\n"
      ],
      "text/plain": [
       "        PC1          PC2           PC3         \n",
       "A1CF    -0.002806500 -3.385787e-03 -0.000501818\n",
       "A2ML1   -0.004317699 -4.619880e-03 -0.003346057\n",
       "AADACL2  0.002332925  1.013306e-03  0.003040417\n",
       "AATK    -0.005121072  4.365772e-05 -0.006086168\n",
       "ABCA1    0.015482876 -1.033667e-03  0.001238308"
      ]
     },
     "metadata": {},
     "output_type": "display_data"
    }
   ],
   "source": [
    "## Information to project scaled gene expression into PCA space\n",
    "atlas$loadings[1:5, 1:3]"
   ]
  },
  {
   "cell_type": "markdown",
   "id": "academic-joseph",
   "metadata": {},
   "source": [
    "# Function to prediction cell type "
   ]
  },
  {
   "cell_type": "code",
   "execution_count": 8,
   "id": "abandoned-basis",
   "metadata": {},
   "outputs": [
    {
     "data": {
      "text/html": [
       "<ol>\n",
       "\t<li><pre class=language-r><code>function (.xnew) \n",
       "{\n",
       "<span style=white-space:pre-wrap>    pred0 &lt;- glmnet:::predict.multnet(object = model, newx = .xnew, </span>\n",
       "<span style=white-space:pre-wrap>        type = \"response\")[, , 1]</span>\n",
       "<span style=white-space:pre-wrap>    res &lt;- matrix(0, nrow = nrow(.xnew), ncol = length(label_levels))</span>\n",
       "<span style=white-space:pre-wrap>    colnames(res) &lt;- label_levels</span>\n",
       "<span style=white-space:pre-wrap>    res[, colnames(pred0)] &lt;- pred0</span>\n",
       "<span style=white-space:pre-wrap>    return(res)</span>\n",
       "}</code></pre></li>\n",
       "\t<li><pre class=language-r><code>function (.xnew) \n",
       "{\n",
       "<span style=white-space:pre-wrap>    pred0 &lt;- glmnet:::predict.multnet(object = model, newx = .xnew, </span>\n",
       "<span style=white-space:pre-wrap>        type = \"response\")[, , 1]</span>\n",
       "<span style=white-space:pre-wrap>    res &lt;- matrix(0, nrow = nrow(.xnew), ncol = length(label_levels))</span>\n",
       "<span style=white-space:pre-wrap>    colnames(res) &lt;- label_levels</span>\n",
       "<span style=white-space:pre-wrap>    res[, colnames(pred0)] &lt;- pred0</span>\n",
       "<span style=white-space:pre-wrap>    return(res)</span>\n",
       "}</code></pre></li>\n",
       "</ol>\n"
      ],
      "text/latex": [
       "\\begin{enumerate}\n",
       "\\item \\begin{minted}{r}\n",
       "function (.xnew) \n",
       "\\{\n",
       "    pred0 <- glmnet:::predict.multnet(object = model, newx = .xnew, \n",
       "        type = \"response\"){[}, , 1{]}\n",
       "    res <- matrix(0, nrow = nrow(.xnew), ncol = length(label\\_levels))\n",
       "    colnames(res) <- label\\_levels\n",
       "    res{[}, colnames(pred0){]} <- pred0\n",
       "    return(res)\n",
       "\\}\n",
       "\\end{minted}\n",
       "\\item \\begin{minted}{r}\n",
       "function (.xnew) \n",
       "\\{\n",
       "    pred0 <- glmnet:::predict.multnet(object = model, newx = .xnew, \n",
       "        type = \"response\"){[}, , 1{]}\n",
       "    res <- matrix(0, nrow = nrow(.xnew), ncol = length(label\\_levels))\n",
       "    colnames(res) <- label\\_levels\n",
       "    res{[}, colnames(pred0){]} <- pred0\n",
       "    return(res)\n",
       "\\}\n",
       "\\end{minted}\n",
       "\\end{enumerate}\n"
      ],
      "text/markdown": [
       "1. ```r\n",
       "function (.xnew) \n",
       "{\n",
       "    pred0 <- glmnet:::predict.multnet(object = model, newx = .xnew, \n",
       "        type = \"response\")[, , 1]\n",
       "    res <- matrix(0, nrow = nrow(.xnew), ncol = length(label_levels))\n",
       "    colnames(res) <- label_levels\n",
       "    res[, colnames(pred0)] <- pred0\n",
       "    return(res)\n",
       "}\n",
       "```\n",
       "2. ```r\n",
       "function (.xnew) \n",
       "{\n",
       "    pred0 <- glmnet:::predict.multnet(object = model, newx = .xnew, \n",
       "        type = \"response\")[, , 1]\n",
       "    res <- matrix(0, nrow = nrow(.xnew), ncol = length(label_levels))\n",
       "    colnames(res) <- label_levels\n",
       "    res[, colnames(pred0)] <- pred0\n",
       "    return(res)\n",
       "}\n",
       "```\n",
       "\n",
       "\n"
      ],
      "text/plain": [
       "[[1]]\n",
       "function (.xnew) \n",
       "{\n",
       "    pred0 <- glmnet:::predict.multnet(object = model, newx = .xnew, \n",
       "        type = \"response\")[, , 1]\n",
       "    res <- matrix(0, nrow = nrow(.xnew), ncol = length(label_levels))\n",
       "    colnames(res) <- label_levels\n",
       "    res[, colnames(pred0)] <- pred0\n",
       "    return(res)\n",
       "}\n",
       "<environment: 0x7f6ded0620b8>\n",
       "\n",
       "[[2]]\n",
       "function (.xnew) \n",
       "{\n",
       "    pred0 <- glmnet:::predict.multnet(object = model, newx = .xnew, \n",
       "        type = \"response\")[, , 1]\n",
       "    res <- matrix(0, nrow = nrow(.xnew), ncol = length(label_levels))\n",
       "    colnames(res) <- label_levels\n",
       "    res[, colnames(pred0)] <- pred0\n",
       "    return(res)\n",
       "}\n",
       "<environment: 0x7f6ded061360>\n"
      ]
     },
     "metadata": {},
     "output_type": "display_data"
    }
   ],
   "source": [
    "## For each Harmony cluster in reference, predictive function to assign cluster labels\n",
    "head(atlas$models$Cluster, 2)"
   ]
  },
  {
   "cell_type": "markdown",
   "id": "pleased-albuquerque",
   "metadata": {},
   "source": [
    "# Function to prediction UMAP location"
   ]
  },
  {
   "cell_type": "code",
   "execution_count": 9,
   "id": "hourly-maria",
   "metadata": {},
   "outputs": [
    {
     "data": {
      "text/html": [
       "<ol>\n",
       "\t<li><pre class=language-r><code>function (.xnew) \n",
       "{\n",
       "<span style=white-space:pre-wrap>    predict(object = model, newx = .xnew)[, , 1]</span>\n",
       "}</code></pre></li>\n",
       "\t<li><pre class=language-r><code>function (.xnew) \n",
       "{\n",
       "<span style=white-space:pre-wrap>    predict(object = model, newx = .xnew)[, , 1]</span>\n",
       "}</code></pre></li>\n",
       "</ol>\n"
      ],
      "text/latex": [
       "\\begin{enumerate}\n",
       "\\item \\begin{minted}{r}\n",
       "function (.xnew) \n",
       "\\{\n",
       "    predict(object = model, newx = .xnew){[}, , 1{]}\n",
       "\\}\n",
       "\\end{minted}\n",
       "\\item \\begin{minted}{r}\n",
       "function (.xnew) \n",
       "\\{\n",
       "    predict(object = model, newx = .xnew){[}, , 1{]}\n",
       "\\}\n",
       "\\end{minted}\n",
       "\\end{enumerate}\n"
      ],
      "text/markdown": [
       "1. ```r\n",
       "function (.xnew) \n",
       "{\n",
       "    predict(object = model, newx = .xnew)[, , 1]\n",
       "}\n",
       "```\n",
       "2. ```r\n",
       "function (.xnew) \n",
       "{\n",
       "    predict(object = model, newx = .xnew)[, , 1]\n",
       "}\n",
       "```\n",
       "\n",
       "\n"
      ],
      "text/plain": [
       "[[1]]\n",
       "function(.xnew) {\n",
       "            predict(object = model, newx = .xnew)[, , 1]\n",
       "        }\n",
       "<environment: 0x7f6deccc4688>\n",
       "\n",
       "[[2]]\n",
       "function(.xnew) {\n",
       "            predict(object = model, newx = .xnew)[, , 1]\n",
       "        }\n",
       "<environment: 0x7f6deccc4d88>\n"
      ]
     },
     "metadata": {},
     "output_type": "display_data"
    }
   ],
   "source": [
    "## For each Harmony cluster in reference, predictive function to assign cluster labels\n",
    "head(atlas$models$umap, 2)"
   ]
  },
  {
   "cell_type": "markdown",
   "id": "julian-gazette",
   "metadata": {},
   "source": [
    "# Differential expression results \n",
    "\n",
    "(same as supplementary table XX in manuscript) \n"
   ]
  },
  {
   "cell_type": "code",
   "execution_count": 10,
   "id": "brutal-rapid",
   "metadata": {},
   "outputs": [
    {
     "data": {
      "text/html": [
       "<table>\n",
       "<caption>A tibble: 6 × 6</caption>\n",
       "<thead>\n",
       "\t<tr><th scope=col>Cluster</th><th scope=col>Tissue</th><th scope=col>Symbol</th><th scope=col>logFC</th><th scope=col>Zscore</th><th scope=col>Pvalue</th></tr>\n",
       "\t<tr><th scope=col>&lt;chr&gt;</th><th scope=col>&lt;chr&gt;</th><th scope=col>&lt;chr&gt;</th><th scope=col>&lt;dbl&gt;</th><th scope=col>&lt;dbl&gt;</th><th scope=col>&lt;dbl&gt;</th></tr>\n",
       "</thead>\n",
       "<tbody>\n",
       "\t<tr><td>CD34+MFAP5+ C9</td><td>SalivaryGland</td><td>PCOLCE2</td><td>4.163958</td><td>8.995752</td><td>1.173106e-19</td></tr>\n",
       "\t<tr><td>CD34+MFAP5+ C9</td><td>Synovium     </td><td>PI16   </td><td>5.731668</td><td>8.347271</td><td>3.492922e-17</td></tr>\n",
       "\t<tr><td>MYH11+ C13    </td><td>Gut          </td><td>MYH11  </td><td>3.683069</td><td>7.962083</td><td>8.458316e-16</td></tr>\n",
       "\t<tr><td>CD34+MFAP5+ C9</td><td>SalivaryGland</td><td>C1QTNF3</td><td>3.890439</td><td>7.865272</td><td>1.841488e-15</td></tr>\n",
       "\t<tr><td>FBLN1+ C5     </td><td>Gut          </td><td>OGN    </td><td>2.614685</td><td>7.819795</td><td>2.645465e-15</td></tr>\n",
       "\t<tr><td>CD34+MFAP5+ C9</td><td>SalivaryGland</td><td>CLDN11 </td><td>2.872666</td><td>7.783740</td><td>3.520577e-15</td></tr>\n",
       "</tbody>\n",
       "</table>\n"
      ],
      "text/latex": [
       "A tibble: 6 × 6\n",
       "\\begin{tabular}{llllll}\n",
       " Cluster & Tissue & Symbol & logFC & Zscore & Pvalue\\\\\n",
       " <chr> & <chr> & <chr> & <dbl> & <dbl> & <dbl>\\\\\n",
       "\\hline\n",
       "\t CD34+MFAP5+ C9 & SalivaryGland & PCOLCE2 & 4.163958 & 8.995752 & 1.173106e-19\\\\\n",
       "\t CD34+MFAP5+ C9 & Synovium      & PI16    & 5.731668 & 8.347271 & 3.492922e-17\\\\\n",
       "\t MYH11+ C13     & Gut           & MYH11   & 3.683069 & 7.962083 & 8.458316e-16\\\\\n",
       "\t CD34+MFAP5+ C9 & SalivaryGland & C1QTNF3 & 3.890439 & 7.865272 & 1.841488e-15\\\\\n",
       "\t FBLN1+ C5      & Gut           & OGN     & 2.614685 & 7.819795 & 2.645465e-15\\\\\n",
       "\t CD34+MFAP5+ C9 & SalivaryGland & CLDN11  & 2.872666 & 7.783740 & 3.520577e-15\\\\\n",
       "\\end{tabular}\n"
      ],
      "text/markdown": [
       "\n",
       "A tibble: 6 × 6\n",
       "\n",
       "| Cluster &lt;chr&gt; | Tissue &lt;chr&gt; | Symbol &lt;chr&gt; | logFC &lt;dbl&gt; | Zscore &lt;dbl&gt; | Pvalue &lt;dbl&gt; |\n",
       "|---|---|---|---|---|---|\n",
       "| CD34+MFAP5+ C9 | SalivaryGland | PCOLCE2 | 4.163958 | 8.995752 | 1.173106e-19 |\n",
       "| CD34+MFAP5+ C9 | Synovium      | PI16    | 5.731668 | 8.347271 | 3.492922e-17 |\n",
       "| MYH11+ C13     | Gut           | MYH11   | 3.683069 | 7.962083 | 8.458316e-16 |\n",
       "| CD34+MFAP5+ C9 | SalivaryGland | C1QTNF3 | 3.890439 | 7.865272 | 1.841488e-15 |\n",
       "| FBLN1+ C5      | Gut           | OGN     | 2.614685 | 7.819795 | 2.645465e-15 |\n",
       "| CD34+MFAP5+ C9 | SalivaryGland | CLDN11  | 2.872666 | 7.783740 | 3.520577e-15 |\n",
       "\n"
      ],
      "text/plain": [
       "  Cluster        Tissue        Symbol  logFC    Zscore   Pvalue      \n",
       "1 CD34+MFAP5+ C9 SalivaryGland PCOLCE2 4.163958 8.995752 1.173106e-19\n",
       "2 CD34+MFAP5+ C9 Synovium      PI16    5.731668 8.347271 3.492922e-17\n",
       "3 MYH11+ C13     Gut           MYH11   3.683069 7.962083 8.458316e-16\n",
       "4 CD34+MFAP5+ C9 SalivaryGland C1QTNF3 3.890439 7.865272 1.841488e-15\n",
       "5 FBLN1+ C5      Gut           OGN     2.614685 7.819795 2.645465e-15\n",
       "6 CD34+MFAP5+ C9 SalivaryGland CLDN11  2.872666 7.783740 3.520577e-15"
      ]
     },
     "metadata": {},
     "output_type": "display_data"
    }
   ],
   "source": [
    "head(atlas$markers)"
   ]
  },
  {
   "cell_type": "markdown",
   "id": "wooden-reputation",
   "metadata": {},
   "source": [
    "# SessionInfo"
   ]
  },
  {
   "cell_type": "code",
   "execution_count": 11,
   "id": "fatal-proxy",
   "metadata": {},
   "outputs": [
    {
     "data": {
      "text/plain": [
       "R version 3.6.3 (2020-02-29)\n",
       "Platform: x86_64-conda-linux-gnu (64-bit)\n",
       "Running under: Red Hat Enterprise Linux Server release 6.5 (Santiago)\n",
       "\n",
       "Matrix products: default\n",
       "BLAS/LAPACK: /PHShome/ik936/anaconda3/lib/libopenblasp-r0.3.12.so\n",
       "\n",
       "locale:\n",
       " [1] LC_CTYPE=en_US.UTF-8       LC_NUMERIC=C              \n",
       " [3] LC_TIME=en_US.UTF-8        LC_COLLATE=en_US.UTF-8    \n",
       " [5] LC_MONETARY=en_US.UTF-8    LC_MESSAGES=en_US.UTF-8   \n",
       " [7] LC_PAPER=en_US.UTF-8       LC_NAME=C                 \n",
       " [9] LC_ADDRESS=C               LC_TELEPHONE=C            \n",
       "[11] LC_MEASUREMENT=en_US.UTF-8 LC_IDENTIFICATION=C       \n",
       "\n",
       "attached base packages:\n",
       "[1] grid      stats     graphics  grDevices utils     datasets  methods  \n",
       "[8] base     \n",
       "\n",
       "other attached packages:\n",
       " [1] patchwork_1.0.0.9000 ComplexHeatmap_2.2.0 circlize_0.4.8      \n",
       " [4] uwot_0.1.10.9000     scales_1.1.1         lme4_1.1-23         \n",
       " [7] furrr_0.2.0          future_1.21.0        purrr_0.3.4         \n",
       "[10] dplyr_1.0.5          glmnet_3.0-2         Matrix_1.3-2        \n",
       "[13] glue_1.4.2           ggrepel_0.9.1        ggthemes_4.2.0      \n",
       "[16] data.table_1.14.0    ggplot2_3.3.3       \n",
       "\n",
       "loaded via a namespace (and not attached):\n",
       " [1] Rcpp_1.0.6          lattice_0.20-41     listenv_0.8.0      \n",
       " [4] png_0.1-7           digest_0.6.27       foreach_1.5.1      \n",
       " [7] utf8_1.2.1          parallelly_1.23.0   IRdisplay_0.7.0    \n",
       "[10] R6_2.5.0            repr_1.0.2          evaluate_0.14      \n",
       "[13] pillar_1.5.1        GlobalOptions_0.1.2 rlang_0.4.10       \n",
       "[16] uuid_0.1-2          minqa_1.2.4         nloptr_1.2.2.2     \n",
       "[19] GetoptLong_1.0.2    splines_3.6.3       statmod_1.4.35     \n",
       "[22] stringr_1.4.0       munsell_0.5.0       compiler_3.6.3     \n",
       "[25] pkgconfig_2.0.3     base64enc_0.1-3     shape_1.4.4        \n",
       "[28] globals_0.14.0      htmltools_0.5.1.1   tidyselect_1.1.0   \n",
       "[31] tibble_3.1.0        codetools_0.2-16    fansi_0.4.2        \n",
       "[34] crayon_1.4.1        withr_2.4.1         MASS_7.3-51.4      \n",
       "[37] nlme_3.1-148        jsonlite_1.7.2      gtable_0.3.0       \n",
       "[40] lifecycle_1.0.0     DBI_1.1.0           magrittr_2.0.1     \n",
       "[43] stringi_1.5.3       ellipsis_0.3.1      generics_0.1.0     \n",
       "[46] vctrs_0.3.7         boot_1.3-23         IRkernel_1.1       \n",
       "[49] rjson_0.2.20        RColorBrewer_1.1-2  iterators_1.0.13   \n",
       "[52] tools_3.6.3         parallel_3.6.3      clue_0.3-57        \n",
       "[55] colorspace_2.0-0    cluster_2.1.0       pbdZMQ_0.3-3       "
      ]
     },
     "metadata": {},
     "output_type": "display_data"
    }
   ],
   "source": [
    "sessionInfo()"
   ]
  },
  {
   "cell_type": "raw",
   "id": "charged-championship",
   "metadata": {},
   "source": [
    "\n",
    "\n",
    "\n",
    "\n",
    "\n",
    "\n",
    "\n",
    "\n",
    "\n",
    "\n",
    "\n",
    "\n",
    "\n",
    "\n",
    "\n",
    "\n"
   ]
  }
 ],
 "metadata": {
  "kernelspec": {
   "display_name": "R",
   "language": "R",
   "name": "ir"
  },
  "language_info": {
   "codemirror_mode": "r",
   "file_extension": ".r",
   "mimetype": "text/x-r-source",
   "name": "R",
   "pygments_lexer": "r",
   "version": "3.6.3"
  }
 },
 "nbformat": 4,
 "nbformat_minor": 5
}
